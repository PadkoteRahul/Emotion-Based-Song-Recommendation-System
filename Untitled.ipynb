{
 "cells": [
  {
   "cell_type": "code",
   "execution_count": 5,
   "id": "b47bcf03-009f-48d1-99b0-e516bf66a0f6",
   "metadata": {},
   "outputs": [],
   "source": [
    "import tensorflow as tf\n",
    "\n",
    "model = tf.keras.models.load_model('EmotionDetectionModel.h5')"
   ]
  },
  {
   "cell_type": "code",
   "execution_count": 6,
   "id": "01776e0f-94d7-4bea-9eeb-325317e150bb",
   "metadata": {},
   "outputs": [
    {
     "name": "stdout",
     "output_type": "stream",
     "text": [
      "INFO:tensorflow:Assets written to: C:\\Users\\APPTMYZ\\AppData\\Local\\Temp\\tmpeldamsmq\\assets\n"
     ]
    },
    {
     "name": "stderr",
     "output_type": "stream",
     "text": [
      "INFO:tensorflow:Assets written to: C:\\Users\\APPTMYZ\\AppData\\Local\\Temp\\tmpeldamsmq\\assets\n"
     ]
    }
   ],
   "source": [
    "converter = tf.lite.TFLiteConverter.from_keras_model(model)\n",
    "tflite_model = converter.convert()"
   ]
  },
  {
   "cell_type": "code",
   "execution_count": 7,
   "id": "070042e7-75d3-43f6-8fce-3d197d8b8b98",
   "metadata": {},
   "outputs": [],
   "source": [
    "with open('converted_model.tflite', 'wb') as f:\n",
    "    f.write(tflite_model)"
   ]
  },
  {
   "cell_type": "code",
   "execution_count": null,
   "id": "880cd1d6-d478-4a64-ad14-abb917691953",
   "metadata": {},
   "outputs": [],
   "source": []
  }
 ],
 "metadata": {
  "kernelspec": {
   "display_name": "Python 3 (ipykernel)",
   "language": "python",
   "name": "python3"
  },
  "language_info": {
   "codemirror_mode": {
    "name": "ipython",
    "version": 3
   },
   "file_extension": ".py",
   "mimetype": "text/x-python",
   "name": "python",
   "nbconvert_exporter": "python",
   "pygments_lexer": "ipython3",
   "version": "3.11.5"
  }
 },
 "nbformat": 4,
 "nbformat_minor": 5
}
